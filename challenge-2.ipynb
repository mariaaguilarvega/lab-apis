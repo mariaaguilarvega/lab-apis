{
 "cells": [
  {
   "cell_type": "markdown",
   "id": "0809e785",
   "metadata": {},
   "source": [
    "# 1. Import the necessary libraries for you to be able to query 4square API"
   ]
  },
  {
   "cell_type": "code",
   "execution_count": 3,
   "id": "9b373771",
   "metadata": {},
   "outputs": [],
   "source": [
    "import requests\n",
    "import json\n",
    "import pandas as pd\n",
    "import getpass\n",
    "\n"
   ]
  },
  {
   "cell_type": "markdown",
   "id": "e94dce92",
   "metadata": {},
   "source": [
    "# 2. Get names and location of the 10 coffee places by passing Ironhack as your location"
   ]
  },
  {
   "cell_type": "code",
   "execution_count": null,
   "id": "1d72f571",
   "metadata": {},
   "outputs": [
    {
     "name": "stdout",
     "output_type": "stream",
     "text": [
      "1. Almazen Café - Calle San Esteban, 15, 41003 Sevilla Andalucía\n",
      "2. Jester - Calle Prta de la Carne, 7A, 41004 Sevilla Andalucía\n",
      "3. Café Bar Mármoles - Calle Muñoz y Pavón, 16 (C. Mármoles), 41004 Sevilla Andalucía\n",
      "4. Delatribu Coffee & Bread - Pje. Andreu, 3, 41004 Sevilla Andalucía\n",
      "5. La gata en bicicleta - Calle Pérez Galdós, 22, 41004 Sevilla Andalucía\n",
      "6. Bar el Comercio - Calle Lineros, 9, 41004 Sevilla Andalucía\n",
      "7. Lartesana - Recaredo 35, 41003 Sevilla Andalucía\n",
      "8. Love Horno Artesano - Plaza de la Alfalfa, 10, Sevilla Andalucía\n",
      "9. Aromas de San Roman - Calle Sol, 32, 41003 Sevilla Andalucía\n",
      "10. GRANIER Panes Artesanos - Calle Imagen, 3, 41003 Sevilla Andalucía\n"
     ]
    }
   ],
   "source": [
    "# your code here\n",
    "\n",
    "access_token = getpass.getpass(prompt = \"Enter your 4square API token:\")\n",
    "\n",
    "url = \"https://api.foursquare.com/v3/places/search\"\n",
    "\n",
    "headers = {\n",
    "    \"Accept\": \"application/json\",\n",
    "    \"Authorization\": access_token\n",
    "}\n",
    "\n",
    "\n",
    "params = {\n",
    "\"query\": \"coffee\",\n",
    "\"ll\": \"37.388630,-5.986840\", #it did not work with near\n",
    "\"limit\" : 10 #default limit parameter is 10 according to documentation of the api\n",
    "}\n",
    "\n",
    "response = requests.get(url, headers=headers, params=params)\n",
    "\n",
    "if response.status_code == 200:\n",
    "    data = response.json()\n",
    "    places = data.get('results', [])\n",
    "    for i, place in enumerate(places, start=1):\n",
    "        name = place.get('name', 'Unknown Name')\n",
    "        location = place.get('location', {})\n",
    "        address = location.get('formatted_address', 'Address not available')\n",
    "        print(f\"{i}. {name} - {address}\")\n",
    "else:\n",
    "    print(f\"Error: {response.status_code}\")\n",
    "    print(response.text)"
   ]
  },
  {
   "cell_type": "markdown",
   "id": "941b5dbf",
   "metadata": {},
   "source": [
    "# 3. Now get the 5 CLOSEST coffe places. Make use of params: limit, near?"
   ]
  },
  {
   "cell_type": "code",
   "execution_count": 7,
   "id": "fda8ddff",
   "metadata": {},
   "outputs": [
    {
     "name": "stdout",
     "output_type": "stream",
     "text": [
      "1. Jester - Calle Prta de la Carne, 7A, 41004 Sevilla Andalucía\n",
      "2. Almazen Café - Calle San Esteban, 15, 41003 Sevilla Andalucía\n",
      "3. Delatribu Coffee & Bread - Pje. Andreu, 3, 41004 Sevilla Andalucía\n",
      "4. Sur Bar & Tapas - Avenida Ramón Carande, 10, 41013 Sevilla Andalucía\n",
      "5. Bar el Comercio - Calle Lineros, 9, 41004 Sevilla Andalucía\n"
     ]
    }
   ],
   "source": [
    "# your code here\n",
    "\n",
    "access_token = getpass.getpass(prompt = \"Enter your 4square API token:\")\n",
    "\n",
    "url = \"https://api.foursquare.com/v3/places/search\"\n",
    "\n",
    "headers = {\n",
    "    \"Accept\": \"application/json\",\n",
    "    \"Authorization\": access_token\n",
    "}\n",
    "\n",
    "\n",
    "params = {\n",
    "\"query\": \"coffee\",\n",
    "\"near\": \"Ironhack, Sevilla\", #it did not work with near\n",
    "\"limit\" : 5 #default limit parameter is 10 according to documentation of the api\n",
    "}\n",
    "\n",
    "response = requests.get(url, headers=headers, params=params)\n",
    "\n",
    "if response.status_code == 200:\n",
    "    data = response.json()\n",
    "    places = data.get('results', [])\n",
    "    for i, place in enumerate(places, start=1):\n",
    "        name = place.get('name', 'Unknown Name')\n",
    "        location = place.get('location', {})\n",
    "        address = location.get('formatted_address', 'Address not available')\n",
    "        print(f\"{i}. {name} - {address}\")\n",
    "else:\n",
    "    print(f\"Error: {response.status_code}\")\n",
    "    print(response.text)"
   ]
  },
  {
   "cell_type": "markdown",
   "id": "d19904e8",
   "metadata": {},
   "source": [
    "# 4. Define a function that returns name, lat, long for starbucks OR restaurants AND for any given location"
   ]
  },
  {
   "cell_type": "code",
   "execution_count": 11,
   "id": "1fad5153",
   "metadata": {},
   "outputs": [],
   "source": [
    "def foursquare_places (venue, coordinates):\n",
    "   \n",
    "    url = \"https://api.foursquare.com/v3/places/search\"\n",
    "\n",
    "    \n",
    "    api_key = input(\"Enter your Foursquare API Key: \")  \n",
    "\n",
    "    # Set up headers\n",
    "    headers = {\n",
    "        \"Accept\": \"application/json\",\n",
    "        \"Authorization\": api_key\n",
    "    }\n",
    "\n",
    "    # Query parameters\n",
    "    params = {\n",
    "        \"query\": venue,\n",
    "        \"ll\": coordinates,  # Location coordinates (latitude, longitude)\n",
    "        \"limit\": 10  # Maximum number of results\n",
    "    }\n",
    "\n",
    "    response = requests.get(url, headers=headers, params=params)\n",
    "\n",
    " \n",
    "    if response.status_code == 200:\n",
    "        results = response.json().get('results', [])\n",
    "        venues_info = []\n",
    "        for place in results:\n",
    "            name = place.get('name', 'Unknown Name')\n",
    "            lat = place.get('geocodes', {}).get('main', {}).get('latitude', 'Unknown Latitude')\n",
    "            long = place.get('geocodes', {}).get('main', {}).get('longitude', 'Unknown Longitude')\n",
    "            venues_info.append({\"name\": name, \"latitude\": lat, \"longitude\": long})\n",
    "        df_venues = pd.DataFrame(venues_info) #better to return as dataframe so later we can save it as json\n",
    "        return df_venues\n",
    "    else:\n",
    "        print(f\"Error: {response.status_code}\")\n",
    "        print(response.text)\n",
    "        return None\n"
   ]
  },
  {
   "cell_type": "markdown",
   "id": "1836c1a1",
   "metadata": {},
   "source": [
    "# 5. Export it into data folder as a json: `data/coffe_shops.json`"
   ]
  },
  {
   "cell_type": "code",
   "execution_count": 12,
   "id": "7ac5f2a8",
   "metadata": {},
   "outputs": [],
   "source": [
    "# your code here\n",
    "coordinates = \"37.388630,-5.986840\"  # Ubicación de Ironhack Sevilla\n",
    "venue = \"restaurantes\"  # Tipo de lugar a buscar\n",
    "result = foursquare_places(venue, coordinates)"
   ]
  },
  {
   "cell_type": "code",
   "execution_count": 13,
   "id": "1f2d897d",
   "metadata": {},
   "outputs": [
    {
     "data": {
      "text/html": [
       "<div>\n",
       "<style scoped>\n",
       "    .dataframe tbody tr th:only-of-type {\n",
       "        vertical-align: middle;\n",
       "    }\n",
       "\n",
       "    .dataframe tbody tr th {\n",
       "        vertical-align: top;\n",
       "    }\n",
       "\n",
       "    .dataframe thead th {\n",
       "        text-align: right;\n",
       "    }\n",
       "</style>\n",
       "<table border=\"1\" class=\"dataframe\">\n",
       "  <thead>\n",
       "    <tr style=\"text-align: right;\">\n",
       "      <th></th>\n",
       "      <th>name</th>\n",
       "      <th>latitude</th>\n",
       "      <th>longitude</th>\n",
       "    </tr>\n",
       "  </thead>\n",
       "  <tbody>\n",
       "    <tr>\n",
       "      <th>0</th>\n",
       "      <td>Baco Restaurantes</td>\n",
       "      <td>37.392808</td>\n",
       "      <td>-5.993611</td>\n",
       "    </tr>\n",
       "    <tr>\n",
       "      <th>1</th>\n",
       "      <td>La Bartola</td>\n",
       "      <td>37.386882</td>\n",
       "      <td>-5.988043</td>\n",
       "    </tr>\n",
       "    <tr>\n",
       "      <th>2</th>\n",
       "      <td>Almazen Café</td>\n",
       "      <td>37.389834</td>\n",
       "      <td>-5.985687</td>\n",
       "    </tr>\n",
       "    <tr>\n",
       "      <th>3</th>\n",
       "      <td>Pan y Piu</td>\n",
       "      <td>37.389850</td>\n",
       "      <td>-5.989826</td>\n",
       "    </tr>\n",
       "    <tr>\n",
       "      <th>4</th>\n",
       "      <td>Jester</td>\n",
       "      <td>37.385877</td>\n",
       "      <td>-5.986344</td>\n",
       "    </tr>\n",
       "    <tr>\n",
       "      <th>5</th>\n",
       "      <td>El Traga</td>\n",
       "      <td>37.389824</td>\n",
       "      <td>-5.989317</td>\n",
       "    </tr>\n",
       "    <tr>\n",
       "      <th>6</th>\n",
       "      <td>Becerrita</td>\n",
       "      <td>37.390277</td>\n",
       "      <td>-5.984264</td>\n",
       "    </tr>\n",
       "    <tr>\n",
       "      <th>7</th>\n",
       "      <td>Taberna Coloniales</td>\n",
       "      <td>37.391707</td>\n",
       "      <td>-5.989505</td>\n",
       "    </tr>\n",
       "    <tr>\n",
       "      <th>8</th>\n",
       "      <td>San Marco</td>\n",
       "      <td>37.386124</td>\n",
       "      <td>-5.989879</td>\n",
       "    </tr>\n",
       "    <tr>\n",
       "      <th>9</th>\n",
       "      <td>La Bodega</td>\n",
       "      <td>37.390054</td>\n",
       "      <td>-5.990342</td>\n",
       "    </tr>\n",
       "  </tbody>\n",
       "</table>\n",
       "</div>"
      ],
      "text/plain": [
       "                 name   latitude  longitude\n",
       "0   Baco Restaurantes  37.392808  -5.993611\n",
       "1          La Bartola  37.386882  -5.988043\n",
       "2        Almazen Café  37.389834  -5.985687\n",
       "3           Pan y Piu  37.389850  -5.989826\n",
       "4              Jester  37.385877  -5.986344\n",
       "5            El Traga  37.389824  -5.989317\n",
       "6           Becerrita  37.390277  -5.984264\n",
       "7  Taberna Coloniales  37.391707  -5.989505\n",
       "8           San Marco  37.386124  -5.989879\n",
       "9           La Bodega  37.390054  -5.990342"
      ]
     },
     "execution_count": 13,
     "metadata": {},
     "output_type": "execute_result"
    }
   ],
   "source": [
    "result"
   ]
  },
  {
   "cell_type": "code",
   "execution_count": 15,
   "id": "04869372",
   "metadata": {},
   "outputs": [],
   "source": [
    "result.to_json(\"data/coffe_shops.json\")"
   ]
  },
  {
   "cell_type": "markdown",
   "id": "2d77e99d",
   "metadata": {},
   "source": [
    "# BONUS: load it into MongoDB in a collection named \"ironcoffee\" using pymongo"
   ]
  },
  {
   "cell_type": "code",
   "execution_count": null,
   "id": "85b94955",
   "metadata": {},
   "outputs": [],
   "source": [
    "# your code here"
   ]
  }
 ],
 "metadata": {
  "kernelspec": {
   "display_name": "base",
   "language": "python",
   "name": "python3"
  },
  "language_info": {
   "codemirror_mode": {
    "name": "ipython",
    "version": 3
   },
   "file_extension": ".py",
   "mimetype": "text/x-python",
   "name": "python",
   "nbconvert_exporter": "python",
   "pygments_lexer": "ipython3",
   "version": "3.12.7"
  },
  "toc": {
   "base_numbering": 1,
   "nav_menu": {},
   "number_sections": true,
   "sideBar": true,
   "skip_h1_title": false,
   "title_cell": "Table of Contents",
   "title_sidebar": "Contents",
   "toc_cell": false,
   "toc_position": {},
   "toc_section_display": true,
   "toc_window_display": true
  }
 },
 "nbformat": 4,
 "nbformat_minor": 5
}
